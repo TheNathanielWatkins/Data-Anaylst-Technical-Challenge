{
 "cells": [
  {
   "cell_type": "markdown",
   "metadata": {},
   "source": [
    "# Data Analyst Technical Challenge\n",
    "## The Data Analyst challenge is meant to measure a candidate's skills in data analysis. During this challenge, you will be asked to:\n",
    "\n",
    "* Review and “clean” a dataset\n",
    "* Summarize the data presented by reporting average, minimum and maximum values\n",
    "* Identify key trends reflected in the dataset\n",
    "* Make business recommendations based on data findings"
   ]
  },
  {
   "cell_type": "code",
   "execution_count": 22,
   "metadata": {
    "_uuid": "9644171fd7294391b887803d35c1bd565eb577b5"
   },
   "outputs": [],
   "source": [
    "## Load some default Python modules\n",
    "import numpy as np\n",
    "import pandas as pd\n",
    "import matplotlib.pyplot as plt\n",
    "import seaborn as sns\n",
    "% matplotlib inline\n",
    "plt.style.use('seaborn-whitegrid')\n",
    "\n",
    "## TODO: Make sure to check all these imports "
   ]
  },
  {
   "cell_type": "markdown",
   "metadata": {},
   "source": [
    "### Question 1\n",
    "First, state what data you find included in the download.\n",
    " - - - - - \n",
    "As you can see below, the included data is 952 rows of dates, pageview counts, average time spent on page for that date, the bounce rate for the day, and the count of unique pageviews.\n",
    "* The `Day Index` column is a list of dates, so when importing, we'll tell Pandas to interpret it that way.\n",
    "* `Pageviews` and `Unique Pageviews` are both integer columns, and we'll have to convert them to that format later (which is why the first time we use the `describe` function it doesn't give us data such as the mean).\n",
    "* The `Avg. Time on Page` column is elapsed time and will need to be converted to a timedelta format.\n",
    "* `Bounce Rate` is a percentage and will need to have the punctuation removed and be converted to a floating point number."
   ]
  },
  {
   "cell_type": "code",
   "execution_count": 2,
   "metadata": {
    "_uuid": "45366fe52f68cc504422248cdf5bac4b0b526c6b"
   },
   "outputs": [
    {
     "data": {
      "text/html": [
       "<div>\n",
       "<style scoped>\n",
       "    .dataframe tbody tr th:only-of-type {\n",
       "        vertical-align: middle;\n",
       "    }\n",
       "\n",
       "    .dataframe tbody tr th {\n",
       "        vertical-align: top;\n",
       "    }\n",
       "\n",
       "    .dataframe thead th {\n",
       "        text-align: right;\n",
       "    }\n",
       "</style>\n",
       "<table border=\"1\" class=\"dataframe\">\n",
       "  <thead>\n",
       "    <tr style=\"text-align: right;\">\n",
       "      <th></th>\n",
       "      <th>Day Index</th>\n",
       "      <th>Pageviews</th>\n",
       "      <th>Avg. Time on Page</th>\n",
       "      <th>Bounce Rate</th>\n",
       "      <th>Unique Pageviews</th>\n",
       "    </tr>\n",
       "  </thead>\n",
       "  <tbody>\n",
       "    <tr>\n",
       "      <th>0</th>\n",
       "      <td>2015-04-05</td>\n",
       "      <td>4,981</td>\n",
       "      <td>0:03:31</td>\n",
       "      <td>79.67%</td>\n",
       "      <td>4,174</td>\n",
       "    </tr>\n",
       "    <tr>\n",
       "      <th>1</th>\n",
       "      <td>2015-04-06</td>\n",
       "      <td>6,133</td>\n",
       "      <td>0:03:11</td>\n",
       "      <td>78.75%</td>\n",
       "      <td>5,102</td>\n",
       "    </tr>\n",
       "    <tr>\n",
       "      <th>2</th>\n",
       "      <td>2015-04-07</td>\n",
       "      <td>5,868</td>\n",
       "      <td>0:03:30</td>\n",
       "      <td>79.85%</td>\n",
       "      <td>4,985</td>\n",
       "    </tr>\n",
       "    <tr>\n",
       "      <th>3</th>\n",
       "      <td>2015-04-08</td>\n",
       "      <td>5,572</td>\n",
       "      <td>0:03:24</td>\n",
       "      <td>80.83%</td>\n",
       "      <td>4,754</td>\n",
       "    </tr>\n",
       "    <tr>\n",
       "      <th>4</th>\n",
       "      <td>2015-04-09</td>\n",
       "      <td>5,581</td>\n",
       "      <td>0:03:08</td>\n",
       "      <td>80.53%</td>\n",
       "      <td>4,714</td>\n",
       "    </tr>\n",
       "  </tbody>\n",
       "</table>\n",
       "</div>"
      ],
      "text/plain": [
       "   Day Index Pageviews Avg. Time on Page Bounce Rate Unique Pageviews\n",
       "0 2015-04-05     4,981           0:03:31      79.67%            4,174\n",
       "1 2015-04-06     6,133           0:03:11      78.75%            5,102\n",
       "2 2015-04-07     5,868           0:03:30      79.85%            4,985\n",
       "3 2015-04-08     5,572           0:03:24      80.83%            4,754\n",
       "4 2015-04-09     5,581           0:03:08      80.53%            4,714"
      ]
     },
     "execution_count": 2,
     "metadata": {},
     "output_type": "execute_result"
    }
   ],
   "source": [
    "## Read data in pandas dataframe\n",
    "dataset_df =  pd.read_csv('data-set.csv', parse_dates=['Day Index'], infer_datetime_format=True)\n",
    "\n",
    "## List first few rows (datapoints)\n",
    "dataset_df.head()"
   ]
  },
  {
   "cell_type": "code",
   "execution_count": 3,
   "metadata": {
    "_uuid": "b663e58b73665c6df9c48d215b54ee9d46ff58f4"
   },
   "outputs": [
    {
     "data": {
      "text/html": [
       "<div>\n",
       "<style scoped>\n",
       "    .dataframe tbody tr th:only-of-type {\n",
       "        vertical-align: middle;\n",
       "    }\n",
       "\n",
       "    .dataframe tbody tr th {\n",
       "        vertical-align: top;\n",
       "    }\n",
       "\n",
       "    .dataframe thead th {\n",
       "        text-align: right;\n",
       "    }\n",
       "</style>\n",
       "<table border=\"1\" class=\"dataframe\">\n",
       "  <thead>\n",
       "    <tr style=\"text-align: right;\">\n",
       "      <th></th>\n",
       "      <th>Day Index</th>\n",
       "      <th>Pageviews</th>\n",
       "      <th>Avg. Time on Page</th>\n",
       "      <th>Bounce Rate</th>\n",
       "      <th>Unique Pageviews</th>\n",
       "    </tr>\n",
       "  </thead>\n",
       "  <tbody>\n",
       "    <tr>\n",
       "      <th>count</th>\n",
       "      <td>952</td>\n",
       "      <td>952</td>\n",
       "      <td>952</td>\n",
       "      <td>952</td>\n",
       "      <td>952</td>\n",
       "    </tr>\n",
       "    <tr>\n",
       "      <th>unique</th>\n",
       "      <td>952</td>\n",
       "      <td>896</td>\n",
       "      <td>115</td>\n",
       "      <td>551</td>\n",
       "      <td>893</td>\n",
       "    </tr>\n",
       "    <tr>\n",
       "      <th>top</th>\n",
       "      <td>2016-09-08 00:00:00</td>\n",
       "      <td>5,924</td>\n",
       "      <td>0:04:18</td>\n",
       "      <td>83.49%</td>\n",
       "      <td>8,355</td>\n",
       "    </tr>\n",
       "    <tr>\n",
       "      <th>freq</th>\n",
       "      <td>1</td>\n",
       "      <td>3</td>\n",
       "      <td>23</td>\n",
       "      <td>10</td>\n",
       "      <td>3</td>\n",
       "    </tr>\n",
       "    <tr>\n",
       "      <th>first</th>\n",
       "      <td>2015-04-05 00:00:00</td>\n",
       "      <td>NaN</td>\n",
       "      <td>NaN</td>\n",
       "      <td>NaN</td>\n",
       "      <td>NaN</td>\n",
       "    </tr>\n",
       "    <tr>\n",
       "      <th>last</th>\n",
       "      <td>2017-12-12 00:00:00</td>\n",
       "      <td>NaN</td>\n",
       "      <td>NaN</td>\n",
       "      <td>NaN</td>\n",
       "      <td>NaN</td>\n",
       "    </tr>\n",
       "  </tbody>\n",
       "</table>\n",
       "</div>"
      ],
      "text/plain": [
       "                  Day Index Pageviews Avg. Time on Page Bounce Rate  \\\n",
       "count                   952       952               952         952   \n",
       "unique                  952       896               115         551   \n",
       "top     2016-09-08 00:00:00     5,924           0:04:18      83.49%   \n",
       "freq                      1         3                23          10   \n",
       "first   2015-04-05 00:00:00       NaN               NaN         NaN   \n",
       "last    2017-12-12 00:00:00       NaN               NaN         NaN   \n",
       "\n",
       "       Unique Pageviews  \n",
       "count               952  \n",
       "unique              893  \n",
       "top               8,355  \n",
       "freq                  3  \n",
       "first               NaN  \n",
       "last                NaN  "
      ]
     },
     "execution_count": 3,
     "metadata": {},
     "output_type": "execute_result"
    }
   ],
   "source": [
    "## Check statistics of the features\n",
    "dataset_df.describe()"
   ]
  },
  {
   "cell_type": "code",
   "execution_count": 5,
   "metadata": {},
   "outputs": [
    {
     "data": {
      "text/plain": [
       "Timedelta('982 days 00:00:00')"
      ]
     },
     "execution_count": 5,
     "metadata": {},
     "output_type": "execute_result"
    }
   ],
   "source": [
    "dataset_df['Day Index'].max() - dataset_df['Day Index'].min()"
   ]
  },
  {
   "cell_type": "markdown",
   "metadata": {},
   "source": [
    "### Question 2\n",
    "You may need to “clean” the dataset. Share a brief explanation of any changes you find \n",
    "it necessary to make in order to prepare the data for analysis. State any irregularities, \n",
    "missing data, or significant assumptions you are making.\n",
    "- - - - - \n",
    "## TODO: answer\n",
    "\n",
    "Also, it seems that there are some blank rows in this dataset.  Both of these issues will be explored further later in this section."
   ]
  },
  {
   "cell_type": "markdown",
   "metadata": {},
   "source": [
    "Looking at the file in a text editor, I found some rows with missing values, but just to be sure that we caught them all, let's use `dropna`."
   ]
  },
  {
   "cell_type": "code",
   "execution_count": 6,
   "metadata": {},
   "outputs": [
    {
     "data": {
      "text/plain": [
       "Day Index            NaT\n",
       "Pageviews            NaN\n",
       "Avg. Time on Page    NaT\n",
       "Bounce Rate          NaN\n",
       "Unique Pageviews     NaN\n",
       "Name: 953, dtype: object"
      ]
     },
     "execution_count": 6,
     "metadata": {},
     "output_type": "execute_result"
    }
   ],
   "source": [
    "dataset_df.loc[953]"
   ]
  },
  {
   "cell_type": "code",
   "execution_count": 7,
   "metadata": {
    "_uuid": "4c96988b66b5e3cd76ad3da35e4338882ef09880"
   },
   "outputs": [
    {
     "name": "stdout",
     "output_type": "stream",
     "text": [
      "Dropping all rows with all NaNs:\n",
      "Old size: 954\n",
      "New size: 952\n",
      "Dropped 2 records, or 0.21%\n"
     ]
    }
   ],
   "source": [
    "def drop_nan(df, verbose=False, how='any', inplace=True):\n",
    "    if verbose:\n",
    "        print(\"Dropping all rows with {} NaNs:\".format(how))\n",
    "        old_size = len(df)\n",
    "        print(\"Old size: {}\".format(old_size))\n",
    "\n",
    "    df.dropna(how=how, axis='rows', inplace=inplace)\n",
    "\n",
    "    if verbose:\n",
    "        new_size = len(df)\n",
    "        print(\"New size: {}\".format(new_size))\n",
    "        difference = old_size - new_size\n",
    "        percent = (difference / old_size) * 100\n",
    "        print(\"Dropped {} records, or {:.2f}%\".format(difference, percent))\n",
    "    \n",
    "    return df\n",
    "\n",
    "dataset_df = drop_nan(dataset_df, True, 'all')"
   ]
  },
  {
   "cell_type": "markdown",
   "metadata": {},
   "source": [
    "Looks like there were 2 blank lines in the original csv.\n",
    "\n",
    "Next, let's try to find those missing dates!"
   ]
  },
  {
   "cell_type": "code",
   "execution_count": 8,
   "metadata": {},
   "outputs": [
    {
     "data": {
      "text/plain": [
       "Day Index             datetime64[ns]\n",
       "Pageviews                     object\n",
       "Avg. Time on Page    timedelta64[ns]\n",
       "Bounce Rate                   object\n",
       "Unique Pageviews              object\n",
       "dtype: object"
      ]
     },
     "execution_count": 8,
     "metadata": {},
     "output_type": "execute_result"
    }
   ],
   "source": [
    "dataset_df.dtypes"
   ]
  },
  {
   "cell_type": "code",
   "execution_count": 9,
   "metadata": {},
   "outputs": [
    {
     "name": "stdout",
     "output_type": "stream",
     "text": [
      "DatetimeIndex(['2015-05-01', '2015-05-02', '2015-05-03', '2015-05-04',\n",
      "               '2015-05-05', '2015-05-06', '2015-05-07', '2015-05-08',\n",
      "               '2015-05-09', '2015-05-10', '2015-05-11', '2015-05-12',\n",
      "               '2015-05-13', '2015-05-14', '2015-05-15', '2015-05-16',\n",
      "               '2015-05-17', '2015-05-18', '2015-05-19', '2015-05-20',\n",
      "               '2015-05-21', '2015-05-22', '2015-05-23', '2015-05-24',\n",
      "               '2015-05-25', '2015-05-26', '2015-05-27', '2015-05-28',\n",
      "               '2015-05-29', '2015-05-30', '2015-05-31'],\n",
      "              dtype='datetime64[ns]', freq='D')\n"
     ]
    }
   ],
   "source": [
    "dataset_date_idx = pd.DatetimeIndex(start=dataset_df['Day Index'].min(), end=dataset_df['Day Index'].max(), freq='D')\n",
    "\n",
    "dataset_gaps = dataset_date_idx[~dataset_date_idx.isin(dataset_df['Day Index'])]\n",
    "print(dataset_gaps)"
   ]
  },
  {
   "cell_type": "markdown",
   "metadata": {},
   "source": [
    "It looks like something happened to all the data from May 2015!  Before deciding how we'll deal with these missing values, let's investigate the rest of the data"
   ]
  },
  {
   "cell_type": "code",
   "execution_count": 10,
   "metadata": {},
   "outputs": [
    {
     "data": {
      "text/html": [
       "<div>\n",
       "<style scoped>\n",
       "    .dataframe tbody tr th:only-of-type {\n",
       "        vertical-align: middle;\n",
       "    }\n",
       "\n",
       "    .dataframe tbody tr th {\n",
       "        vertical-align: top;\n",
       "    }\n",
       "\n",
       "    .dataframe thead th {\n",
       "        text-align: right;\n",
       "    }\n",
       "</style>\n",
       "<table border=\"1\" class=\"dataframe\">\n",
       "  <thead>\n",
       "    <tr style=\"text-align: right;\">\n",
       "      <th></th>\n",
       "      <th>Day Index</th>\n",
       "      <th>Pageviews</th>\n",
       "      <th>Avg. Time on Page</th>\n",
       "      <th>Bounce Rate</th>\n",
       "      <th>Unique Pageviews</th>\n",
       "    </tr>\n",
       "  </thead>\n",
       "  <tbody>\n",
       "    <tr>\n",
       "      <th>0</th>\n",
       "      <td>2015-04-05</td>\n",
       "      <td>4981</td>\n",
       "      <td>00:03:31</td>\n",
       "      <td>79.67</td>\n",
       "      <td>4174</td>\n",
       "    </tr>\n",
       "    <tr>\n",
       "      <th>1</th>\n",
       "      <td>2015-04-06</td>\n",
       "      <td>6133</td>\n",
       "      <td>00:03:11</td>\n",
       "      <td>78.75</td>\n",
       "      <td>5102</td>\n",
       "    </tr>\n",
       "    <tr>\n",
       "      <th>2</th>\n",
       "      <td>2015-04-07</td>\n",
       "      <td>5868</td>\n",
       "      <td>00:03:30</td>\n",
       "      <td>79.85</td>\n",
       "      <td>4985</td>\n",
       "    </tr>\n",
       "    <tr>\n",
       "      <th>3</th>\n",
       "      <td>2015-04-08</td>\n",
       "      <td>5572</td>\n",
       "      <td>00:03:24</td>\n",
       "      <td>80.83</td>\n",
       "      <td>4754</td>\n",
       "    </tr>\n",
       "    <tr>\n",
       "      <th>4</th>\n",
       "      <td>2015-04-09</td>\n",
       "      <td>5581</td>\n",
       "      <td>00:03:08</td>\n",
       "      <td>80.53</td>\n",
       "      <td>4714</td>\n",
       "    </tr>\n",
       "  </tbody>\n",
       "</table>\n",
       "</div>"
      ],
      "text/plain": [
       "   Day Index  Pageviews Avg. Time on Page  Bounce Rate  Unique Pageviews\n",
       "0 2015-04-05       4981          00:03:31        79.67              4174\n",
       "1 2015-04-06       6133          00:03:11        78.75              5102\n",
       "2 2015-04-07       5868          00:03:30        79.85              4985\n",
       "3 2015-04-08       5572          00:03:24        80.83              4754\n",
       "4 2015-04-09       5581          00:03:08        80.53              4714"
      ]
     },
     "execution_count": 10,
     "metadata": {},
     "output_type": "execute_result"
    }
   ],
   "source": [
    "## \n",
    "dataset_df['Pageviews'] = dataset_df['Pageviews'].str.replace(\",\",\"\")\n",
    "dataset_df['Unique Pageviews'] = dataset_df['Unique Pageviews'].str.replace(\",\",\"\")\n",
    "dataset_df['Bounce Rate'] = dataset_df['Bounce Rate'].str.replace(\"%\",\"\")\n",
    "\n",
    "##\n",
    "dataset_df['Pageviews'] = pd.to_numeric(dataset_df['Pageviews'])\n",
    "dataset_df['Unique Pageviews'] = pd.to_numeric(dataset_df['Unique Pageviews'])\n",
    "dataset_df['Bounce Rate'] = pd.to_numeric(dataset_df['Bounce Rate'])\n",
    "\n",
    "##\n",
    "dataset_df['Pageviews'] = dataset_df['Pageviews'].astype(int)\n",
    "dataset_df['Unique Pageviews'] = dataset_df['Unique Pageviews'].astype(int)\n",
    "dataset_df['Bounce Rate'] *= .01\n",
    "\n",
    "##\n",
    "dataset_df['Avg. Time on Page'] = pd.to_timedelta(dataset_df['Avg. Time on Page'])\n",
    "\n",
    "dataset_df.head()"
   ]
  },
  {
   "cell_type": "code",
   "execution_count": 16,
   "metadata": {},
   "outputs": [
    {
     "name": "stdout",
     "output_type": "stream",
     "text": [
      "Dropping all rows with any NaNs:\n",
      "Old size: 952\n",
      "New size: 952\n",
      "Dropped 0 records, or 0.00%\n"
     ]
    },
    {
     "data": {
      "text/html": [
       "<div>\n",
       "<style scoped>\n",
       "    .dataframe tbody tr th:only-of-type {\n",
       "        vertical-align: middle;\n",
       "    }\n",
       "\n",
       "    .dataframe tbody tr th {\n",
       "        vertical-align: top;\n",
       "    }\n",
       "\n",
       "    .dataframe thead th {\n",
       "        text-align: right;\n",
       "    }\n",
       "</style>\n",
       "<table border=\"1\" class=\"dataframe\">\n",
       "  <thead>\n",
       "    <tr style=\"text-align: right;\">\n",
       "      <th></th>\n",
       "      <th>Day Index</th>\n",
       "      <th>Pageviews</th>\n",
       "      <th>Avg. Time on Page</th>\n",
       "      <th>Bounce Rate</th>\n",
       "      <th>Unique Pageviews</th>\n",
       "    </tr>\n",
       "  </thead>\n",
       "  <tbody>\n",
       "    <tr>\n",
       "      <th>count</th>\n",
       "      <td>952</td>\n",
       "      <td>952.000000</td>\n",
       "      <td>952</td>\n",
       "      <td>952.000000</td>\n",
       "      <td>952.000000</td>\n",
       "    </tr>\n",
       "    <tr>\n",
       "      <th>unique</th>\n",
       "      <td>952</td>\n",
       "      <td>NaN</td>\n",
       "      <td>NaN</td>\n",
       "      <td>NaN</td>\n",
       "      <td>NaN</td>\n",
       "    </tr>\n",
       "    <tr>\n",
       "      <th>top</th>\n",
       "      <td>2016-09-08 00:00:00</td>\n",
       "      <td>NaN</td>\n",
       "      <td>NaN</td>\n",
       "      <td>NaN</td>\n",
       "      <td>NaN</td>\n",
       "    </tr>\n",
       "    <tr>\n",
       "      <th>freq</th>\n",
       "      <td>1</td>\n",
       "      <td>NaN</td>\n",
       "      <td>NaN</td>\n",
       "      <td>NaN</td>\n",
       "      <td>NaN</td>\n",
       "    </tr>\n",
       "    <tr>\n",
       "      <th>first</th>\n",
       "      <td>2015-04-05 00:00:00</td>\n",
       "      <td>NaN</td>\n",
       "      <td>NaN</td>\n",
       "      <td>NaN</td>\n",
       "      <td>NaN</td>\n",
       "    </tr>\n",
       "    <tr>\n",
       "      <th>last</th>\n",
       "      <td>2017-12-12 00:00:00</td>\n",
       "      <td>NaN</td>\n",
       "      <td>NaN</td>\n",
       "      <td>NaN</td>\n",
       "      <td>NaN</td>\n",
       "    </tr>\n",
       "    <tr>\n",
       "      <th>mean</th>\n",
       "      <td>NaN</td>\n",
       "      <td>7853.911765</td>\n",
       "      <td>0 days 00:04:03.021008</td>\n",
       "      <td>0.826534</td>\n",
       "      <td>6851.549370</td>\n",
       "    </tr>\n",
       "    <tr>\n",
       "      <th>std</th>\n",
       "      <td>NaN</td>\n",
       "      <td>2194.618182</td>\n",
       "      <td>0 days 00:00:24.967393</td>\n",
       "      <td>0.020341</td>\n",
       "      <td>1990.279962</td>\n",
       "    </tr>\n",
       "    <tr>\n",
       "      <th>min</th>\n",
       "      <td>NaN</td>\n",
       "      <td>3389.000000</td>\n",
       "      <td>0 days 00:02:31</td>\n",
       "      <td>0.758000</td>\n",
       "      <td>2855.000000</td>\n",
       "    </tr>\n",
       "    <tr>\n",
       "      <th>25%</th>\n",
       "      <td>NaN</td>\n",
       "      <td>6099.250000</td>\n",
       "      <td>0 days 00:03:45</td>\n",
       "      <td>0.811700</td>\n",
       "      <td>5238.000000</td>\n",
       "    </tr>\n",
       "    <tr>\n",
       "      <th>50%</th>\n",
       "      <td>NaN</td>\n",
       "      <td>7834.500000</td>\n",
       "      <td>0 days 00:04:08</td>\n",
       "      <td>0.829200</td>\n",
       "      <td>6833.500000</td>\n",
       "    </tr>\n",
       "    <tr>\n",
       "      <th>75%</th>\n",
       "      <td>NaN</td>\n",
       "      <td>9588.250000</td>\n",
       "      <td>0 days 00:04:22</td>\n",
       "      <td>0.841625</td>\n",
       "      <td>8391.750000</td>\n",
       "    </tr>\n",
       "    <tr>\n",
       "      <th>max</th>\n",
       "      <td>NaN</td>\n",
       "      <td>27449.000000</td>\n",
       "      <td>0 days 00:05:00</td>\n",
       "      <td>0.878400</td>\n",
       "      <td>25001.000000</td>\n",
       "    </tr>\n",
       "  </tbody>\n",
       "</table>\n",
       "</div>"
      ],
      "text/plain": [
       "                  Day Index     Pageviews       Avg. Time on Page  \\\n",
       "count                   952    952.000000                     952   \n",
       "unique                  952           NaN                     NaN   \n",
       "top     2016-09-08 00:00:00           NaN                     NaN   \n",
       "freq                      1           NaN                     NaN   \n",
       "first   2015-04-05 00:00:00           NaN                     NaN   \n",
       "last    2017-12-12 00:00:00           NaN                     NaN   \n",
       "mean                    NaN   7853.911765  0 days 00:04:03.021008   \n",
       "std                     NaN   2194.618182  0 days 00:00:24.967393   \n",
       "min                     NaN   3389.000000         0 days 00:02:31   \n",
       "25%                     NaN   6099.250000         0 days 00:03:45   \n",
       "50%                     NaN   7834.500000         0 days 00:04:08   \n",
       "75%                     NaN   9588.250000         0 days 00:04:22   \n",
       "max                     NaN  27449.000000         0 days 00:05:00   \n",
       "\n",
       "        Bounce Rate  Unique Pageviews  \n",
       "count    952.000000        952.000000  \n",
       "unique          NaN               NaN  \n",
       "top             NaN               NaN  \n",
       "freq            NaN               NaN  \n",
       "first           NaN               NaN  \n",
       "last            NaN               NaN  \n",
       "mean       0.826534       6851.549370  \n",
       "std        0.020341       1990.279962  \n",
       "min        0.758000       2855.000000  \n",
       "25%        0.811700       5238.000000  \n",
       "50%        0.829200       6833.500000  \n",
       "75%        0.841625       8391.750000  \n",
       "max        0.878400      25001.000000  "
      ]
     },
     "execution_count": 16,
     "metadata": {},
     "output_type": "execute_result"
    }
   ],
   "source": [
    "dataset_df = drop_nan(dataset_df, verbose=True, how='any', inplace=False)\n",
    "\n",
    "dataset_df.describe(include='all')"
   ]
  },
  {
   "cell_type": "code",
   "execution_count": null,
   "metadata": {},
   "outputs": [],
   "source": [
    "def prepare_time_features(df, drop=False):\n",
    "    df['day_of_week'] = df['Day Index'].dt.weekday\n",
    "    df['day_of_month'] = df['Day Index'].dt.day\n",
    "    df['week'] = df['Day Index'].dt.week\n",
    "    df['month'] = df['Day Index'].dt.month\n",
    "    df['year'] = df['Day Index'].dt.year\n",
    "\n",
    "    if drop:\n",
    "        df.drop(columns=['Day Index'], inplace=True)\n",
    "        \n",
    "    return df"
   ]
  },
  {
   "cell_type": "markdown",
   "metadata": {},
   "source": [
    "### Question 3\n",
    "Provide a brief summary of the data. What date range is covered? What are average\n",
    "and/or total values for the provided metrics? What are minimum and maximum daily\n",
    "values?\n",
    "- - - - - \n",
    "* This data spans the date range from April 5th, 2015 to December 12th, 2017; but seems to be missing several days as that date range spanned 982 days.\n",
    "\n",
    "## TODO: answer"
   ]
  },
  {
   "cell_type": "markdown",
   "metadata": {},
   "source": [
    "### Question 4\n",
    "Provide a summary of how website traffic is generally performing. What general longterm\n",
    "trends do you see in the various indicators? Provide any relevant graphs to visually\n",
    "demonstrate your points.\n",
    "- - - - - \n",
    "## TODO: answer"
   ]
  },
  {
   "cell_type": "markdown",
   "metadata": {},
   "source": [
    "### Question 5\n",
    "In terms of unique pageviews, do you see any repeating trends?\n",
    "- - - - - \n",
    "## TODO: answer"
   ]
  },
  {
   "cell_type": "markdown",
   "metadata": {},
   "source": [
    "### Question 6\n",
    "The marketing department wants to try out placing ads on the site next year, but only\n",
    "some of the time. If the goal is to show ads on days when the website will receive the\n",
    "most traffic, are there specific days, weeks or months that you would recommend for or\n",
    "against?\n",
    "- - - - - \n",
    "## TODO: answer"
   ]
  }
 ],
 "metadata": {
  "kernelspec": {
   "display_name": "Python [conda env:MLND]",
   "language": "python",
   "name": "conda-env-MLND-py"
  },
  "language_info": {
   "codemirror_mode": {
    "name": "ipython",
    "version": 3
   },
   "file_extension": ".py",
   "mimetype": "text/x-python",
   "name": "python",
   "nbconvert_exporter": "python",
   "pygments_lexer": "ipython3",
   "version": "3.6.5"
  }
 },
 "nbformat": 4,
 "nbformat_minor": 2
}
